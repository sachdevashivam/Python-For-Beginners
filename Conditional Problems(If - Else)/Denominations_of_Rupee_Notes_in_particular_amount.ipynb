{
 "cells": [
  {
   "cell_type": "markdown",
   "metadata": {},
   "source": [
    "# program to print the minimum number of Rupee notes needed to match a given amount. Available denominations of notes are - 2000, 500, 100, 50, 20, 10.\n"
   ]
  },
  {
   "cell_type": "code",
   "execution_count": null,
   "metadata": {},
   "outputs": [],
   "source": []
  },
  {
   "cell_type": "code",
   "execution_count": 9,
   "metadata": {},
   "outputs": [],
   "source": [
    "# Importing python Math Library for our program to generate round off values"
   ]
  },
  {
   "cell_type": "code",
   "execution_count": 10,
   "metadata": {},
   "outputs": [],
   "source": [
    "import math"
   ]
  },
  {
   "cell_type": "code",
   "execution_count": 11,
   "metadata": {},
   "outputs": [],
   "source": [
    "# Let's consider the amount of money of user's choice, so taking input from user"
   ]
  },
  {
   "cell_type": "code",
   "execution_count": 14,
   "metadata": {},
   "outputs": [
    {
     "name": "stdout",
     "output_type": "stream",
     "text": [
      "Enter the amount: 5600\n"
     ]
    }
   ],
   "source": [
    "amount = float(input(\"Enter the amount: \"))"
   ]
  },
  {
   "cell_type": "code",
   "execution_count": null,
   "metadata": {},
   "outputs": [],
   "source": [
    "# '/' Division will give the number of notes of specific denomination required in that particular amount "
   ]
  },
  {
   "cell_type": "code",
   "execution_count": null,
   "metadata": {},
   "outputs": [],
   "source": [
    "# As the number of notes should be a whole number so we are using 'floor' function from 'math' library to make it possible"
   ]
  },
  {
   "cell_type": "code",
   "execution_count": null,
   "metadata": {},
   "outputs": [],
   "source": [
    "# '%' Modulus will provide the remaining amount after considering a particular denomination"
   ]
  },
  {
   "cell_type": "code",
   "execution_count": 16,
   "metadata": {},
   "outputs": [
    {
     "name": "stdout",
     "output_type": "stream",
     "text": [
      "5600.0 Amount needs 2 - Rs 2000 notes\n",
      "5600.0 Amount needs 3 - Rs 500 notes\n",
      "5600.0 Amount needs 1 - Rs 100 notes\n",
      "5600.0 Amount needs 0 - Rs 50 notes\n",
      "5600.0 Amount needs 0 - Rs 20 notes\n",
      "5600.0 Amount needs 0 - Rs 10 notes\n"
     ]
    }
   ],
   "source": [
    "twothousand = amount / 2000\n",
    "print(amount, \"Amount needs\", math.floor(twothousand), '-',  \"Rs 2000 notes\")\n",
    "\n",
    "amount2 = amount % 2000\n",
    "\n",
    "fivehundred = amount2 / 500\n",
    "print(amount, \"Amount needs\", math.floor(fivehundred), '-', \"Rs 500 notes\")\n",
    "\n",
    "amount3 = amount2 % 500\n",
    "\n",
    "hundred = amount3 / 100\n",
    "print(amount, \"Amount needs\", math.floor(hundred), '-',  \"Rs 100 notes\")\n",
    "\n",
    "amount4 = amount3 % 100\n",
    "\n",
    "fifty = amount4 / 50\n",
    "print(amount, \"Amount needs\", math.floor(fifty), '-',  \"Rs 50 notes\")\n",
    "\n",
    "amount5 = amount4 % 50\n",
    "\n",
    "twenty = amount5 / 20\n",
    "print(amount, \"Amount needs\", math.floor(twenty), '-',  \"Rs 20 notes\")\n",
    "\n",
    "amount6 = amount5 % 20\n",
    "\n",
    "ten = amount6 / 10\n",
    "print(amount, \"Amount needs\", math.floor(ten), '-',  \"Rs 10 notes\")"
   ]
  },
  {
   "cell_type": "code",
   "execution_count": null,
   "metadata": {},
   "outputs": [],
   "source": []
  }
 ],
 "metadata": {
  "kernelspec": {
   "display_name": "Python 3",
   "language": "python",
   "name": "python3"
  },
  "language_info": {
   "codemirror_mode": {
    "name": "ipython",
    "version": 3
   },
   "file_extension": ".py",
   "mimetype": "text/x-python",
   "name": "python",
   "nbconvert_exporter": "python",
   "pygments_lexer": "ipython3",
   "version": "3.7.3"
  }
 },
 "nbformat": 4,
 "nbformat_minor": 2
}
