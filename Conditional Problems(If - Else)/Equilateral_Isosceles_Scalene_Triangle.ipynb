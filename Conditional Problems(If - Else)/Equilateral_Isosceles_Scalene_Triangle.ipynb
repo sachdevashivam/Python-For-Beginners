{
 "cells": [
  {
   "cell_type": "markdown",
   "metadata": {},
   "source": [
    "# Program to check whether the triangle is Equilateral, Isosceles or Scalene"
   ]
  },
  {
   "cell_type": "code",
   "execution_count": null,
   "metadata": {},
   "outputs": [],
   "source": []
  },
  {
   "cell_type": "code",
   "execution_count": null,
   "metadata": {},
   "outputs": [],
   "source": [
    "# This program will take sides of triangle as input from user and will decide whether the triangle is Equilateral, Isosceles or Scalene"
   ]
  },
  {
   "cell_type": "code",
   "execution_count": null,
   "metadata": {},
   "outputs": [],
   "source": []
  },
  {
   "cell_type": "code",
   "execution_count": null,
   "metadata": {},
   "outputs": [],
   "source": [
    "# Let's say the sides of triangles are a,b and c"
   ]
  },
  {
   "cell_type": "code",
   "execution_count": 9,
   "metadata": {},
   "outputs": [
    {
     "name": "stdout",
     "output_type": "stream",
     "text": [
      "Enter the First side: 12\n",
      "Enter the Second side: 12\n",
      "Enter the Third side: 14\n"
     ]
    }
   ],
   "source": [
    "a = float(input(\"Enter the First side: \"))\n",
    "\n",
    "b = float(input(\"Enter the Second side: \"))\n",
    "\n",
    "c = float(input(\"Enter the Third side: \"))"
   ]
  },
  {
   "cell_type": "code",
   "execution_count": 10,
   "metadata": {},
   "outputs": [
    {
     "name": "stdout",
     "output_type": "stream",
     "text": [
      "Isosceles triangle\n"
     ]
    }
   ],
   "source": [
    "if not(a + b > c and b + c > a and c + a > b):\n",
    "    print(\"Entered sides are Invalid!!\")\n",
    "else:    \n",
    "    if a == b and b == c:\n",
    "        print(\"Equilateral triangle\")\n",
    "\n",
    "    elif a == b or b == c or c == a:\n",
    "        print(\"Isosceles triangle\")\n",
    "\n",
    "    else:\n",
    "        print(\"Scalene triangle\")"
   ]
  },
  {
   "cell_type": "code",
   "execution_count": null,
   "metadata": {},
   "outputs": [],
   "source": []
  }
 ],
 "metadata": {
  "kernelspec": {
   "display_name": "Python 3",
   "language": "python",
   "name": "python3"
  },
  "language_info": {
   "codemirror_mode": {
    "name": "ipython",
    "version": 3
   },
   "file_extension": ".py",
   "mimetype": "text/x-python",
   "name": "python",
   "nbconvert_exporter": "python",
   "pygments_lexer": "ipython3",
   "version": "3.7.3"
  }
 },
 "nbformat": 4,
 "nbformat_minor": 2
}
